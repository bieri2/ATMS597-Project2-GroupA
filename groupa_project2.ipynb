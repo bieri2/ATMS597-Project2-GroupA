{
  "nbformat": 4,
  "nbformat_minor": 0,
  "metadata": {
    "colab": {
      "name": "groupa_project2.ipynb",
      "provenance": [],
      "authorship_tag": "ABX9TyO3tgm8dJAhh48bOTcekOWT",
      "include_colab_link": true
    },
    "kernelspec": {
      "name": "python3",
      "display_name": "Python 3"
    }
  },
  "cells": [
    {
      "cell_type": "markdown",
      "metadata": {
        "id": "view-in-github",
        "colab_type": "text"
      },
      "source": [
        "<a href=\"https://colab.research.google.com/github/bieri2/ATMS597-Project2-GroupA/blob/master/groupa_project2.ipynb\" target=\"_parent\"><img src=\"https://colab.research.google.com/assets/colab-badge.svg\" alt=\"Open In Colab\"/></a>"
      ]
    },
    {
      "cell_type": "code",
      "metadata": {
        "id": "m4-9znEOgwVw",
        "colab_type": "code",
        "colab": {}
      },
      "source": [
        "import numpy as np\n",
        "import requests\n",
        "import pandas as pd\n",
        "import calendar\n",
        "import datetime\n",
        "import matplotlib.pyplot as plt\n",
        "from matplotlib.pyplot import cm\n",
        "import matplotlib as mpl"
      ],
      "execution_count": 0,
      "outputs": []
    },
    {
      "cell_type": "code",
      "metadata": {
        "id": "uxldTy-ehdxq",
        "colab_type": "code",
        "colab": {}
      },
      "source": [
        "# Define function to download data from NCEI\n",
        "# Function adapted from Stefanie Moline: https://github.com/stefmolin/Hands-On-Data-Analysis-with-Pandas/\n",
        "\n",
        "def make_request(endpoint, token, payload=None):\n",
        "    \"\"\"\n",
        "    Make a request to a specific endpoint on the NCDC Web API\n",
        "    passing headers and optional payload.\n",
        "    \n",
        "    Parameters:\n",
        "        - endpoint: The endpoint of the API you want to \n",
        "                    make a GET request to (string).\n",
        "        - payload: A dictionary of data to pass along \n",
        "                   with the request.\n",
        "    \n",
        "    Returns:\n",
        "        Response object.\n",
        "    \"\"\"\n",
        "    return requests.get(\n",
        "        f'https://www.ncdc.noaa.gov/cdo-web/api/v2/{endpoint}',\n",
        "        headers={\n",
        "            'token': token \n",
        "        },\n",
        "        params=payload\n",
        "    )"
      ],
      "execution_count": 0,
      "outputs": []
    },
    {
      "cell_type": "code",
      "metadata": {
        "id": "1eBo2Z5U51pQ",
        "colab_type": "code",
        "colab": {}
      },
      "source": [
        "def add_a_month(date):\n",
        "    \"\"\"\n",
        "    A Python function that takes in a datetime object and returns\n",
        "    the next month.\n",
        "    \n",
        "    Parameters:\n",
        "        - date : Input Datetime object.\n",
        "    \n",
        "    Returns:\n",
        "        Output Datetime object, with next month added.\n",
        "    \"\"\"    \n",
        "    \n",
        "    month = date.month - 1 + 1\n",
        "    year = date.year + month // 12\n",
        "    month = month % 12 + 1\n",
        "    day = min(date.day, calendar.monthrange(year,month)[1])\n",
        "    return datetime.date(year, month, day)"
      ],
      "execution_count": 0,
      "outputs": []
    },
    {
      "cell_type": "code",
      "metadata": {
        "id": "BLeJF51NoJog",
        "colab_type": "code",
        "colab": {}
      },
      "source": [
        "def stripes_inputs(siteid, token, start, end, tunit):\n",
        "    \"\"\"\n",
        "    A Python function that takes in a station ID, start Datetime,\n",
        "    end Datetime, time unit and downloads the necessary data from\n",
        "    the Global Historical Climatology Network.\n",
        "    \n",
        "    Parameters:\n",
        "        - siteid : Site ID (string).\n",
        "        - start : Start Datetime (Datetime object).\n",
        "        - end : End Datetime (Datetime object).\n",
        "        - tunit : time unit (string), may be either 'y' for year, 'm' for \n",
        "         month, 'w' for week or 'd' for day.\n",
        "    \n",
        "    Returns:\n",
        "        GHCN dataset as specified that can then be read as a dataframe.\n",
        "    \"\"\" \n",
        "    \n",
        "    results = []\n",
        "    while start < end :\n",
        "          response = make_request(\n",
        "              'data', token, \n",
        "              {\n",
        "                  'datasetid' : 'GHCND', # Global Historical Climatology Network - Daily (GHCND) dataset\n",
        "                  'stationid' : f'{siteid}', \n",
        "                  'startdate' : start,\n",
        "                  'enddate'   : start,\n",
        "                  'datatypeid': ['TMAX','TMIN'],\n",
        "                  'units'     : 'metric'\n",
        "              }\n",
        "          )\n",
        "\n",
        "          if response.ok:\n",
        "               # we extend the list instead of appending to avoid getting a nested list\n",
        "               results.extend(response.json()['results'])\n",
        "\n",
        "          # update the current date to avoid an infinite loop at a given time interval\n",
        "          if (tunit=='y'):\n",
        "               start += datetime.timedelta(days=365)\n",
        "          elif (tunit=='m'):\n",
        "               start += add_a_month(start)\n",
        "          elif (tunit=='w'):\n",
        "               start += datetime.timedelta(weeks=tdelta)\n",
        "          else:\n",
        "               start += datetime.timedelta(days=1)\n",
        "    return results"
      ],
      "execution_count": 0,
      "outputs": []
    },
    {
      "cell_type": "code",
      "metadata": {
        "id": "n3f2AXlxDBEg",
        "colab_type": "code",
        "colab": {}
      },
      "source": [
        "## Method to plot Climate (Warming) Stripes and/or Time Series (if asked) :\n",
        "def plot_stripes(Tmax, Tmin, t, station_name, plot_tseries):\n",
        "    \"\"\"\n",
        "    A Python function that takes in max/min data for a given station and \n",
        "    plots Climate Stripes and/or Time-Series, if user asks for one.\n",
        "    \n",
        "    Parameters:\n",
        "        - Tmax : Array/List of Maximum Temperature Values.\n",
        "        - Tmin : Array/List of Minimum Temperature Values.\n",
        "        - t : Array/List of years in the record (might have multiple\n",
        "          same values if there are monthly/weekly sub-data).\n",
        "        - station_name : String name of the Station.\n",
        "        - plot_tseries : Character variable with user choice for either\n",
        "        plotting or not plotting Time-series line. Either 'y' or 'n'.\n",
        "    \n",
        "    Returns:\n",
        "        Output Image as either a Climate Stripes with/without a time series.\n",
        "    \"\"\"  \n",
        "\n",
        "    ## call figure and define plot titles\n",
        "    fig = plt.figure(figsize=(8,6))\n",
        "    plt.title(station_name, fontsize=14)\n",
        "    ax = plt.gca()\n",
        "\n",
        "    ## Calculate temporal intervals and temperature anomalies :\n",
        "    num_t = len(np.unique(t))\n",
        "    start = t[0]\n",
        "    AvT = (Tmax+Tmin)/2\n",
        "    Tav = []\n",
        "    for i in np.arange(0,num_t):\n",
        "        Tav.append(np.average(AvT[np.where(t==start+i)]))\n",
        "    \n",
        "    ## calculate anomalies\n",
        "    MeanT = np.nanmean(Tav)\n",
        "    Tanoms = Tav-MeanT\n",
        "\n",
        "    ## Store the anomalies as a 2D matrix for the stripes: \n",
        "    heatmap = np.zeros((len(Tav),len(Tav)))\n",
        "    for i in range(0,num_t):\n",
        "        heatmap[:,i] = Tanoms[i]  \n",
        "\n",
        "    ## calculate fraction of maximum T for the time-series :\n",
        "    X = np.arange(num_t)\n",
        "    points = Tav/np.nanmax(AvT)*len(Tav)\n",
        "\n",
        "    ## Plot stripes and time-series if necessary :   \n",
        "    plt.imshow(heatmap[:,:], origin = 'lower', cmap = 'seismic', vmin = np.nanmin(Tanoms), vmax = np.nanmax(Tanoms))\n",
        "    if (plot_tseries == 'y'):\n",
        "        plt.plot(X, points, marker = 'o', color='yellow') \n",
        "    plt.axis('off') # Suppress the axes\n",
        " \n",
        "    # plt.savefig(station_name+'_ClimateStripes_'+str(start)+'_'+str(end)+'.png', bbox_inches='tight',dpi=400)\n",
        "    plt.show()"
      ],
      "execution_count": 0,
      "outputs": []
    },
    {
      "cell_type": "code",
      "metadata": {
        "id": "oPslNcxvD6PQ",
        "colab_type": "code",
        "colab": {}
      },
      "source": [
        "if __name__ == '__main__':\n",
        "    ## Read Example Data\n",
        "    #station_name='Austin'\n",
        "    #t = np.loadtxt('ClimateStripesData.txt', skiprows=2, usecols=[0])\n",
        "    #Tmax = np.loadtxt('ClimateStripesData.txt', skiprows=2, usecols=[2])\n",
        "    #Tmin = np.loadtxt('ClimateStripesData.txt', skiprows=2, usecols=[3])\n",
        "\n",
        "    starttime = datetime.date(2010, 1, 1)\n",
        "    endtime   = datetime.date(2010, 1, 5)\n",
        "    data = stripes_inputs('GHCND:USC00281335', 'fqMFYJqPpWnQIARJzXBQhWPbYEtJwpoH', \n",
        "                          starttime, endtime, 'd')\n",
        "\n",
        "    ## Create data-frame:\n",
        "    df = pd.DataFrame(data[0::2])\n",
        "    df = df.rename(columns={'value':'TMAX'})\n",
        "    df['TMIN'] = [data[1::2][x]['value'] for x in range(0,len(data[1::2]))]\n",
        "    df = df.set_index(pd.to_datetime(df['date'])).drop(columns='date')\n",
        "    df_avg = df.resample('MS').mean()\n",
        "\n",
        "    #plot_stripes(Tmax = df['TMAX'].values, Tmin = df['TMIN'].values, \n",
        "    #             t = df.index.year.values, station_name = 'New York', plot_tseries = 'y')"
      ],
      "execution_count": 0,
      "outputs": []
    },
    {
      "cell_type": "code",
      "metadata": {
        "id": "SaL9FWJDbMq6",
        "colab_type": "code",
        "colab": {}
      },
      "source": [
        ""
      ],
      "execution_count": 0,
      "outputs": []
    }
  ]
}